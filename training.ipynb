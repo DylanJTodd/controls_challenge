{
 "cells": [
  {
   "cell_type": "code",
   "execution_count": 1,
   "metadata": {},
   "outputs": [
    {
     "name": "stdout",
     "output_type": "stream",
     "text": [
      "Training on data file: 00000.csv\n"
     ]
    },
    {
     "ename": "IndexError",
     "evalue": "list index out of range",
     "output_type": "error",
     "traceback": [
      "\u001b[1;31m---------------------------------------------------------------------------\u001b[0m",
      "\u001b[1;31mIndexError\u001b[0m                                Traceback (most recent call last)",
      "Cell \u001b[1;32mIn[1], line 42\u001b[0m\n\u001b[0;32m     40\u001b[0m         env \u001b[38;5;241m=\u001b[39m Environment(model_path, data_path, controller, debug\u001b[38;5;241m=\u001b[39mdebug)\n\u001b[0;32m     41\u001b[0m         \u001b[38;5;28mprint\u001b[39m(\u001b[38;5;124mf\u001b[39m\u001b[38;5;124m\"\u001b[39m\u001b[38;5;124mTraining on data file: \u001b[39m\u001b[38;5;132;01m{\u001b[39;00mfile_name\u001b[38;5;132;01m}\u001b[39;00m\u001b[38;5;124m\"\u001b[39m)\n\u001b[1;32m---> 42\u001b[0m         agent\u001b[38;5;241m.\u001b[39mtrain(num_episodes, max_steps_per_episode, batch_size, env)\n\u001b[0;32m     44\u001b[0m \u001b[38;5;66;03m# Evaluate the trained policy\u001b[39;00m\n\u001b[0;32m     45\u001b[0m env \u001b[38;5;241m=\u001b[39m Environment(model_path, data_path, debug\u001b[38;5;241m=\u001b[39mdebug)  \u001b[38;5;66;03m# Use the last data file for evaluation\u001b[39;00m\n",
      "File \u001b[1;32mc:\\Users\\Dylan\\Downloads\\Controls\\controls_challenge\\sac.py:222\u001b[0m, in \u001b[0;36mSAC.train\u001b[1;34m(self, num_episodes, max_steps_per_episode, batch_size, environment)\u001b[0m\n\u001b[0;32m    220\u001b[0m action \u001b[38;5;241m=\u001b[39m \u001b[38;5;28mself\u001b[39m\u001b[38;5;241m.\u001b[39mselect_action(state)\n\u001b[0;32m    221\u001b[0m steering, acceleration \u001b[38;5;241m=\u001b[39m action\n\u001b[1;32m--> 222\u001b[0m next_state, reward, done, _ \u001b[38;5;241m=\u001b[39m environment\u001b[38;5;241m.\u001b[39mstep(action)\n\u001b[0;32m    223\u001b[0m \u001b[38;5;28mself\u001b[39m\u001b[38;5;241m.\u001b[39mreplay_buffer\u001b[38;5;241m.\u001b[39mstore(state, steering, acceleration, reward, next_state, done)\n\u001b[0;32m    224\u001b[0m episode_reward \u001b[38;5;241m+\u001b[39m\u001b[38;5;241m=\u001b[39m reward\n",
      "File \u001b[1;32mc:\\Users\\Dylan\\Downloads\\Controls\\controls_challenge\\sac.py:254\u001b[0m, in \u001b[0;36mEnvironment.step\u001b[1;34m(self, action)\u001b[0m\n\u001b[0;32m    252\u001b[0m \u001b[38;5;28;01mdef\u001b[39;00m \u001b[38;5;21mstep\u001b[39m(\u001b[38;5;28mself\u001b[39m, action):\n\u001b[0;32m    253\u001b[0m     steering_action, acceleration_action \u001b[38;5;241m=\u001b[39m action\n\u001b[1;32m--> 254\u001b[0m     \u001b[38;5;28mself\u001b[39m\u001b[38;5;241m.\u001b[39msimulator\u001b[38;5;241m.\u001b[39mcontrol_step(\u001b[38;5;28mself\u001b[39m\u001b[38;5;241m.\u001b[39msimulator\u001b[38;5;241m.\u001b[39mstep_idx)\n\u001b[0;32m    255\u001b[0m     \u001b[38;5;28mself\u001b[39m\u001b[38;5;241m.\u001b[39msimulator\u001b[38;5;241m.\u001b[39msim_step(\u001b[38;5;28mself\u001b[39m\u001b[38;5;241m.\u001b[39msimulator\u001b[38;5;241m.\u001b[39mstep_idx)\n\u001b[0;32m    256\u001b[0m     \u001b[38;5;28mself\u001b[39m\u001b[38;5;241m.\u001b[39msimulator\u001b[38;5;241m.\u001b[39mstep_idx \u001b[38;5;241m+\u001b[39m\u001b[38;5;241m=\u001b[39m \u001b[38;5;241m1\u001b[39m\n",
      "File \u001b[1;32mc:\\Users\\Dylan\\Downloads\\Controls\\controls_challenge\\tinyphysics.py:139\u001b[0m, in \u001b[0;36mTinyPhysicsSimulator.control_step\u001b[1;34m(self, step_idx)\u001b[0m\n\u001b[0;32m    137\u001b[0m \u001b[38;5;28;01mdef\u001b[39;00m \u001b[38;5;21mcontrol_step\u001b[39m(\u001b[38;5;28mself\u001b[39m, step_idx: \u001b[38;5;28mint\u001b[39m) \u001b[38;5;241m-\u001b[39m\u001b[38;5;241m>\u001b[39m \u001b[38;5;28;01mNone\u001b[39;00m:\n\u001b[0;32m    138\u001b[0m   \u001b[38;5;28;01mif\u001b[39;00m step_idx \u001b[38;5;241m>\u001b[39m\u001b[38;5;241m=\u001b[39m CONTROL_START_IDX:\n\u001b[1;32m--> 139\u001b[0m     action \u001b[38;5;241m=\u001b[39m \u001b[38;5;28mself\u001b[39m\u001b[38;5;241m.\u001b[39mcontroller\u001b[38;5;241m.\u001b[39mupdate(\u001b[38;5;28mself\u001b[39m\u001b[38;5;241m.\u001b[39mtarget_lataccel_history[step_idx], \u001b[38;5;28mself\u001b[39m\u001b[38;5;241m.\u001b[39mcurrent_lataccel, \u001b[38;5;28mself\u001b[39m\u001b[38;5;241m.\u001b[39mstate_history[step_idx])\n\u001b[0;32m    140\u001b[0m   \u001b[38;5;28;01melse\u001b[39;00m:\n\u001b[0;32m    141\u001b[0m     action \u001b[38;5;241m=\u001b[39m \u001b[38;5;28mself\u001b[39m\u001b[38;5;241m.\u001b[39mdata[\u001b[38;5;124m'\u001b[39m\u001b[38;5;124msteer_command\u001b[39m\u001b[38;5;124m'\u001b[39m]\u001b[38;5;241m.\u001b[39mvalues[step_idx]\n",
      "\u001b[1;31mIndexError\u001b[0m: list index out of range"
     ]
    }
   ],
   "source": [
    "import numpy as np\n",
    "import torch\n",
    "import os\n",
    "from tinyphysics import TinyPhysicsModel, TinyPhysicsSimulator\n",
    "from controllers import sacController\n",
    "from sac import SAC, ActorNetwork, CriticNetwork, ReplayBuffer, Environment, PolicyEvaluator\n",
    "\n",
    "# Set random seed for reproducibility\n",
    "np.random.seed(42)\n",
    "torch.manual_seed(42)\n",
    "\n",
    "# Define paths and parameters\n",
    "model_path = \"./models/tinyphysics.onnx\"\n",
    "data_folder = \"./data\"\n",
    "controller = sacController.Controller\n",
    "debug = False\n",
    "\n",
    "# Initialize actor and critic networks\n",
    "actor = ActorNetwork()\n",
    "critic = CriticNetwork()\n",
    "\n",
    "# Initialize replay buffer\n",
    "state_dim = 4  # State dimension\n",
    "action_dim = 2  # Action dimension\n",
    "replay_buffer = ReplayBuffer(state_dim, action_dim)\n",
    "\n",
    "# Initialize SAC agent\n",
    "agent = SAC(actor, critic, replay_buffer)\n",
    "\n",
    "# Train the SAC agent\n",
    "num_episodes = 100\n",
    "max_steps_per_episode = 1000\n",
    "batch_size = 64\n",
    "\n",
    "# Iterate over each CSV file in the data folder\n",
    "for file_name in os.listdir(data_folder):\n",
    "    if file_name.endswith(\".csv\"):\n",
    "        data_path = os.path.join(data_folder, file_name)\n",
    "        # Initialize environment for current CSV file\n",
    "        env = Environment(model_path, data_path, controller, debug=debug)\n",
    "        print(f\"Training on data file: {file_name}\")\n",
    "        agent.train(num_episodes, max_steps_per_episode, batch_size, env)\n",
    "\n",
    "# Evaluate the trained policy\n",
    "env = Environment(model_path, data_path, debug=debug)  # Use the last data file for evaluation\n",
    "evaluator = PolicyEvaluator(env, agent)\n",
    "avg_reward, std_reward = evaluator.evaluate()\n"
   ]
  }
 ],
 "metadata": {
  "kernelspec": {
   "display_name": "base",
   "language": "python",
   "name": "python3"
  },
  "language_info": {
   "codemirror_mode": {
    "name": "ipython",
    "version": 3
   },
   "file_extension": ".py",
   "mimetype": "text/x-python",
   "name": "python",
   "nbconvert_exporter": "python",
   "pygments_lexer": "ipython3",
   "version": "3.11.7"
  }
 },
 "nbformat": 4,
 "nbformat_minor": 2
}
